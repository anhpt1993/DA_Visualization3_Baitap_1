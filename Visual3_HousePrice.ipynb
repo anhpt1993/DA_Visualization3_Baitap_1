{
  "nbformat": 4,
  "nbformat_minor": 0,
  "metadata": {
    "colab": {
      "name": "Visual3_HousePrice.ipynb",
      "provenance": []
    },
    "kernelspec": {
      "name": "python3",
      "display_name": "Python 3"
    },
    "language_info": {
      "name": "python"
    }
  },
  "cells": [
    {
      "cell_type": "markdown",
      "source": [
        "# 0. Khai báo các thư viện cần thiết"
      ],
      "metadata": {
        "id": "w84N4CuA6Bf_"
      }
    },
    {
      "cell_type": "code",
      "execution_count": null,
      "metadata": {
        "id": "MY2VrByxwfqI"
      },
      "outputs": [],
      "source": [
        "import pandas as pd\n",
        "import seaborn as sns"
      ]
    },
    {
      "cell_type": "markdown",
      "source": [
        "# 1. Đọc dữ liệu từ file Excel"
      ],
      "metadata": {
        "id": "Zc3C6pRD6Lp0"
      }
    },
    {
      "cell_type": "code",
      "source": [
        "df = pd.read_excel(\"https://s3.ap-southeast-1.amazonaws.com/learn.codegym.vn/media/public/2022/01/08185826/house_price_do%CC%82%CC%81ng-da.xlsx\")\n",
        "df.head()"
      ],
      "metadata": {
        "colab": {
          "base_uri": "https://localhost:8080/",
          "height": 493
        },
        "id": "7NO7OIfN6Kxz",
        "outputId": "f13a7d3e-9dc0-4b38-a100-775960c88d04"
      },
      "execution_count": null,
      "outputs": [
        {
          "output_type": "stream",
          "name": "stderr",
          "text": [
            "/usr/local/lib/python3.7/dist-packages/openpyxl/worksheet/_reader.py:312: UserWarning: Unknown extension is not supported and will be removed\n",
            "  warn(msg)\n"
          ]
        },
        {
          "output_type": "execute_result",
          "data": {
            "text/html": [
              "\n",
              "  <div id=\"df-79746f43-eaf4-4bc2-a174-96ff1e19b02c\">\n",
              "    <div class=\"colab-df-container\">\n",
              "      <div>\n",
              "<style scoped>\n",
              "    .dataframe tbody tr th:only-of-type {\n",
              "        vertical-align: middle;\n",
              "    }\n",
              "\n",
              "    .dataframe tbody tr th {\n",
              "        vertical-align: top;\n",
              "    }\n",
              "\n",
              "    .dataframe thead th {\n",
              "        text-align: right;\n",
              "    }\n",
              "</style>\n",
              "<table border=\"1\" class=\"dataframe\">\n",
              "  <thead>\n",
              "    <tr style=\"text-align: right;\">\n",
              "      <th></th>\n",
              "      <th>title</th>\n",
              "      <th>address</th>\n",
              "      <th>area</th>\n",
              "      <th>price</th>\n",
              "      <th>postDate</th>\n",
              "      <th>land_certificate</th>\n",
              "      <th>house_direction</th>\n",
              "      <th>balcony_direction</th>\n",
              "      <th>toilet</th>\n",
              "      <th>bedroom</th>\n",
              "      <th>floor</th>\n",
              "      <th>type_of_land</th>\n",
              "      <th>street_name</th>\n",
              "      <th>ward_name</th>\n",
              "      <th>district_name</th>\n",
              "      <th>city_name</th>\n",
              "      <th>lat</th>\n",
              "      <th>long</th>\n",
              "    </tr>\n",
              "  </thead>\n",
              "  <tbody>\n",
              "    <tr>\n",
              "      <th>0</th>\n",
              "      <td>Bán nhà Trần Quang Diệu mới coong đẹp 50m2x6 t...</td>\n",
              "      <td>Đường Trần Quang Diệu, Phường Trung Liệt, Đốn...</td>\n",
              "      <td>50.0</td>\n",
              "      <td>14700.0</td>\n",
              "      <td>2021-01-01</td>\n",
              "      <td>Sổ đỏ</td>\n",
              "      <td>NaN</td>\n",
              "      <td>NaN</td>\n",
              "      <td>4.0</td>\n",
              "      <td>6.0</td>\n",
              "      <td>6.0</td>\n",
              "      <td>Bán nhà riêng\\n</td>\n",
              "      <td>Đường Trần Quang Diệu</td>\n",
              "      <td>Phường Trung Liệt</td>\n",
              "      <td>Quận Đống Đa</td>\n",
              "      <td>Thành phố Hà Nội</td>\n",
              "      <td>21.015698</td>\n",
              "      <td>105.824583</td>\n",
              "    </tr>\n",
              "    <tr>\n",
              "      <th>1</th>\n",
              "      <td>Bán nhà mặt phố Tây Sơn - 6 tầng. Kinh doanh t...</td>\n",
              "      <td>Đường Tây Sơn, Phường Trung Liệt, Đống Đa, Hà...</td>\n",
              "      <td>35.0</td>\n",
              "      <td>12500.0</td>\n",
              "      <td>2021-02-19</td>\n",
              "      <td>Sổ đỏ</td>\n",
              "      <td>NaN</td>\n",
              "      <td>NaN</td>\n",
              "      <td>NaN</td>\n",
              "      <td>NaN</td>\n",
              "      <td>6.0</td>\n",
              "      <td>Bán nhà mặt phố\\n</td>\n",
              "      <td>Phố Trung Liệt</td>\n",
              "      <td>Phường Trung Liệt</td>\n",
              "      <td>Quận Đống Đa</td>\n",
              "      <td>Thành phố Hà Nội</td>\n",
              "      <td>21.008930</td>\n",
              "      <td>105.824105</td>\n",
              "    </tr>\n",
              "    <tr>\n",
              "      <th>2</th>\n",
              "      <td>Bán nhà số 36 Đoàn Kết - phố Khâm Thiên - Đống...</td>\n",
              "      <td>Số 36 Đoàn Kết, Phố Khâm Thiên, Phường Thổ Qu...</td>\n",
              "      <td>57.0</td>\n",
              "      <td>4200.0</td>\n",
              "      <td>2021-03-10</td>\n",
              "      <td>Sổ đỏ</td>\n",
              "      <td>Nam</td>\n",
              "      <td>Nam</td>\n",
              "      <td>3.0</td>\n",
              "      <td>8.0</td>\n",
              "      <td>4.0</td>\n",
              "      <td>Bán nhà riêng\\n</td>\n",
              "      <td>Phố Khâm Thiên</td>\n",
              "      <td>Phường Khâm Thiên</td>\n",
              "      <td>Quận Đống Đa</td>\n",
              "      <td>Thành phố Hà Nội</td>\n",
              "      <td>21.025208</td>\n",
              "      <td>105.833111</td>\n",
              "    </tr>\n",
              "    <tr>\n",
              "      <th>3</th>\n",
              "      <td>Bán nhà 6 tầng mới kinh doanh mặt ngõ 1194 Đườ...</td>\n",
              "      <td>Ngõ 1194, Đường Láng, Phường Láng Thượng, Đố...</td>\n",
              "      <td>62.0</td>\n",
              "      <td>11000.0</td>\n",
              "      <td>2021-03-13</td>\n",
              "      <td>Sổ đỏ</td>\n",
              "      <td>Đông</td>\n",
              "      <td>Đông-Nam</td>\n",
              "      <td>6.0</td>\n",
              "      <td>5.0</td>\n",
              "      <td>6.0</td>\n",
              "      <td>Bán nhà riêng\\n</td>\n",
              "      <td>Đường Láng Thượng</td>\n",
              "      <td>Phường Láng Thượng</td>\n",
              "      <td>Quận Đống Đa</td>\n",
              "      <td>Thành phố Hà Nội</td>\n",
              "      <td>21.025379</td>\n",
              "      <td>105.801011</td>\n",
              "    </tr>\n",
              "    <tr>\n",
              "      <th>4</th>\n",
              "      <td>Bán nhà mặt phố Thái Hà 70m2, 5 tầng, 4.5m mặt...</td>\n",
              "      <td>Phố Thái Hà, Phường Trung Liệt, Đống Đa, Hà Nội</td>\n",
              "      <td>70.0</td>\n",
              "      <td>36000.0</td>\n",
              "      <td>2021-03-13</td>\n",
              "      <td>Sổ đỏ</td>\n",
              "      <td>NaN</td>\n",
              "      <td>NaN</td>\n",
              "      <td>NaN</td>\n",
              "      <td>6.0</td>\n",
              "      <td>5.0</td>\n",
              "      <td>Bán nhà mặt phố\\n</td>\n",
              "      <td>Phố Trung Liệt</td>\n",
              "      <td>Phường Trung Liệt</td>\n",
              "      <td>Quận Đống Đa</td>\n",
              "      <td>Thành phố Hà Nội</td>\n",
              "      <td>21.009239</td>\n",
              "      <td>105.824230</td>\n",
              "    </tr>\n",
              "  </tbody>\n",
              "</table>\n",
              "</div>\n",
              "      <button class=\"colab-df-convert\" onclick=\"convertToInteractive('df-79746f43-eaf4-4bc2-a174-96ff1e19b02c')\"\n",
              "              title=\"Convert this dataframe to an interactive table.\"\n",
              "              style=\"display:none;\">\n",
              "        \n",
              "  <svg xmlns=\"http://www.w3.org/2000/svg\" height=\"24px\"viewBox=\"0 0 24 24\"\n",
              "       width=\"24px\">\n",
              "    <path d=\"M0 0h24v24H0V0z\" fill=\"none\"/>\n",
              "    <path d=\"M18.56 5.44l.94 2.06.94-2.06 2.06-.94-2.06-.94-.94-2.06-.94 2.06-2.06.94zm-11 1L8.5 8.5l.94-2.06 2.06-.94-2.06-.94L8.5 2.5l-.94 2.06-2.06.94zm10 10l.94 2.06.94-2.06 2.06-.94-2.06-.94-.94-2.06-.94 2.06-2.06.94z\"/><path d=\"M17.41 7.96l-1.37-1.37c-.4-.4-.92-.59-1.43-.59-.52 0-1.04.2-1.43.59L10.3 9.45l-7.72 7.72c-.78.78-.78 2.05 0 2.83L4 21.41c.39.39.9.59 1.41.59.51 0 1.02-.2 1.41-.59l7.78-7.78 2.81-2.81c.8-.78.8-2.07 0-2.86zM5.41 20L4 18.59l7.72-7.72 1.47 1.35L5.41 20z\"/>\n",
              "  </svg>\n",
              "      </button>\n",
              "      \n",
              "  <style>\n",
              "    .colab-df-container {\n",
              "      display:flex;\n",
              "      flex-wrap:wrap;\n",
              "      gap: 12px;\n",
              "    }\n",
              "\n",
              "    .colab-df-convert {\n",
              "      background-color: #E8F0FE;\n",
              "      border: none;\n",
              "      border-radius: 50%;\n",
              "      cursor: pointer;\n",
              "      display: none;\n",
              "      fill: #1967D2;\n",
              "      height: 32px;\n",
              "      padding: 0 0 0 0;\n",
              "      width: 32px;\n",
              "    }\n",
              "\n",
              "    .colab-df-convert:hover {\n",
              "      background-color: #E2EBFA;\n",
              "      box-shadow: 0px 1px 2px rgba(60, 64, 67, 0.3), 0px 1px 3px 1px rgba(60, 64, 67, 0.15);\n",
              "      fill: #174EA6;\n",
              "    }\n",
              "\n",
              "    [theme=dark] .colab-df-convert {\n",
              "      background-color: #3B4455;\n",
              "      fill: #D2E3FC;\n",
              "    }\n",
              "\n",
              "    [theme=dark] .colab-df-convert:hover {\n",
              "      background-color: #434B5C;\n",
              "      box-shadow: 0px 1px 3px 1px rgba(0, 0, 0, 0.15);\n",
              "      filter: drop-shadow(0px 1px 2px rgba(0, 0, 0, 0.3));\n",
              "      fill: #FFFFFF;\n",
              "    }\n",
              "  </style>\n",
              "\n",
              "      <script>\n",
              "        const buttonEl =\n",
              "          document.querySelector('#df-79746f43-eaf4-4bc2-a174-96ff1e19b02c button.colab-df-convert');\n",
              "        buttonEl.style.display =\n",
              "          google.colab.kernel.accessAllowed ? 'block' : 'none';\n",
              "\n",
              "        async function convertToInteractive(key) {\n",
              "          const element = document.querySelector('#df-79746f43-eaf4-4bc2-a174-96ff1e19b02c');\n",
              "          const dataTable =\n",
              "            await google.colab.kernel.invokeFunction('convertToInteractive',\n",
              "                                                     [key], {});\n",
              "          if (!dataTable) return;\n",
              "\n",
              "          const docLinkHtml = 'Like what you see? Visit the ' +\n",
              "            '<a target=\"_blank\" href=https://colab.research.google.com/notebooks/data_table.ipynb>data table notebook</a>'\n",
              "            + ' to learn more about interactive tables.';\n",
              "          element.innerHTML = '';\n",
              "          dataTable['output_type'] = 'display_data';\n",
              "          await google.colab.output.renderOutput(dataTable, element);\n",
              "          const docLink = document.createElement('div');\n",
              "          docLink.innerHTML = docLinkHtml;\n",
              "          element.appendChild(docLink);\n",
              "        }\n",
              "      </script>\n",
              "    </div>\n",
              "  </div>\n",
              "  "
            ],
            "text/plain": [
              "                                               title  ...        long\n",
              "0  Bán nhà Trần Quang Diệu mới coong đẹp 50m2x6 t...  ...  105.824583\n",
              "1  Bán nhà mặt phố Tây Sơn - 6 tầng. Kinh doanh t...  ...  105.824105\n",
              "2  Bán nhà số 36 Đoàn Kết - phố Khâm Thiên - Đống...  ...  105.833111\n",
              "3  Bán nhà 6 tầng mới kinh doanh mặt ngõ 1194 Đườ...  ...  105.801011\n",
              "4  Bán nhà mặt phố Thái Hà 70m2, 5 tầng, 4.5m mặt...  ...  105.824230\n",
              "\n",
              "[5 rows x 18 columns]"
            ]
          },
          "metadata": {},
          "execution_count": 94
        }
      ]
    },
    {
      "cell_type": "code",
      "source": [
        "df.info()"
      ],
      "metadata": {
        "colab": {
          "base_uri": "https://localhost:8080/"
        },
        "id": "RYuJm2Pk7b47",
        "outputId": "c9ce2ab1-905e-4c78-8cf6-99041b84e240"
      },
      "execution_count": null,
      "outputs": [
        {
          "output_type": "stream",
          "name": "stdout",
          "text": [
            "<class 'pandas.core.frame.DataFrame'>\n",
            "RangeIndex: 1000 entries, 0 to 999\n",
            "Data columns (total 18 columns):\n",
            " #   Column             Non-Null Count  Dtype         \n",
            "---  ------             --------------  -----         \n",
            " 0   title              1000 non-null   object        \n",
            " 1   address            1000 non-null   object        \n",
            " 2   area               994 non-null    float64       \n",
            " 3   price              944 non-null    float64       \n",
            " 4   postDate           1000 non-null   datetime64[ns]\n",
            " 5   land_certificate   693 non-null    object        \n",
            " 6   house_direction    44 non-null     object        \n",
            " 7   balcony_direction  24 non-null     object        \n",
            " 8   toilet             551 non-null    float64       \n",
            " 9   bedroom            635 non-null    float64       \n",
            " 10  floor              376 non-null    float64       \n",
            " 11  type_of_land       1000 non-null   object        \n",
            " 12  street_name        808 non-null    object        \n",
            " 13  ward_name          802 non-null    object        \n",
            " 14  district_name      1000 non-null   object        \n",
            " 15  city_name          1000 non-null   object        \n",
            " 16  lat                1000 non-null   float64       \n",
            " 17  long               1000 non-null   float64       \n",
            "dtypes: datetime64[ns](1), float64(7), object(10)\n",
            "memory usage: 140.8+ KB\n"
          ]
        }
      ]
    },
    {
      "cell_type": "markdown",
      "source": [
        "# 2. Xử lý dữ liệu khuyết thiếu và dữ liệu ngoại lai"
      ],
      "metadata": {
        "id": "n0oCMSyj70yR"
      }
    },
    {
      "cell_type": "code",
      "source": [
        "na = df.isna()"
      ],
      "metadata": {
        "id": "2Y42wGmt73qd"
      },
      "execution_count": null,
      "outputs": []
    },
    {
      "cell_type": "code",
      "source": [
        "temp = df[na.area == False]\n",
        "temp.reset_index(drop = True, inplace = True)\n",
        "temp.info()"
      ],
      "metadata": {
        "colab": {
          "base_uri": "https://localhost:8080/"
        },
        "id": "JgXw1suN76hx",
        "outputId": "f69e5ec9-a20b-4481-aab8-76c435a2baf6"
      },
      "execution_count": null,
      "outputs": [
        {
          "output_type": "stream",
          "name": "stdout",
          "text": [
            "<class 'pandas.core.frame.DataFrame'>\n",
            "RangeIndex: 994 entries, 0 to 993\n",
            "Data columns (total 18 columns):\n",
            " #   Column             Non-Null Count  Dtype         \n",
            "---  ------             --------------  -----         \n",
            " 0   title              994 non-null    object        \n",
            " 1   address            994 non-null    object        \n",
            " 2   area               994 non-null    float64       \n",
            " 3   price              942 non-null    float64       \n",
            " 4   postDate           994 non-null    datetime64[ns]\n",
            " 5   land_certificate   693 non-null    object        \n",
            " 6   house_direction    44 non-null     object        \n",
            " 7   balcony_direction  24 non-null     object        \n",
            " 8   toilet             551 non-null    float64       \n",
            " 9   bedroom            635 non-null    float64       \n",
            " 10  floor              376 non-null    float64       \n",
            " 11  type_of_land       994 non-null    object        \n",
            " 12  street_name        802 non-null    object        \n",
            " 13  ward_name          797 non-null    object        \n",
            " 14  district_name      994 non-null    object        \n",
            " 15  city_name          994 non-null    object        \n",
            " 16  lat                994 non-null    float64       \n",
            " 17  long               994 non-null    float64       \n",
            "dtypes: datetime64[ns](1), float64(7), object(10)\n",
            "memory usage: 139.9+ KB\n"
          ]
        }
      ]
    },
    {
      "cell_type": "code",
      "source": [
        "# lọc ra dataframe chỉ chứa các dữ liệu cần thiết\n",
        "df1= temp.loc[:, [\"area\", \"price\", \"bedroom\", \"house_direction\"]]\n",
        "df1.info()"
      ],
      "metadata": {
        "colab": {
          "base_uri": "https://localhost:8080/"
        },
        "id": "nuYy6f7c-kmy",
        "outputId": "054efe4d-bc8a-4abc-a04f-e67b7b21c038"
      },
      "execution_count": null,
      "outputs": [
        {
          "output_type": "stream",
          "name": "stdout",
          "text": [
            "<class 'pandas.core.frame.DataFrame'>\n",
            "RangeIndex: 994 entries, 0 to 993\n",
            "Data columns (total 4 columns):\n",
            " #   Column           Non-Null Count  Dtype  \n",
            "---  ------           --------------  -----  \n",
            " 0   area             994 non-null    float64\n",
            " 1   price            942 non-null    float64\n",
            " 2   bedroom          635 non-null    float64\n",
            " 3   house_direction  44 non-null     object \n",
            "dtypes: float64(3), object(1)\n",
            "memory usage: 31.2+ KB\n"
          ]
        }
      ]
    },
    {
      "cell_type": "code",
      "source": [
        "# Vẽ biểu đồ phân bố dữ liệu của thuộc tính area\n",
        "sns.kdeplot(x = \"area\", data = df1)"
      ],
      "metadata": {
        "colab": {
          "base_uri": "https://localhost:8080/",
          "height": 296
        },
        "id": "iP1r1vnMAILx",
        "outputId": "514bc0bc-c8c0-4ee9-816b-03c0abb42705"
      },
      "execution_count": null,
      "outputs": [
        {
          "output_type": "execute_result",
          "data": {
            "text/plain": [
              "<matplotlib.axes._subplots.AxesSubplot at 0x7fdb6d8ceb50>"
            ]
          },
          "metadata": {},
          "execution_count": 99
        },
        {
          "output_type": "display_data",
          "data": {
            "image/png": "[encoded data removed]",
            "text/plain": [
              "<Figure size 432x288 with 1 Axes>"
            ]
          },
          "metadata": {
            "needs_background": "light"
          }
        }
      ]
    },
    {
      "cell_type": "code",
      "source": [
        "# Vẽ biểu đồ boxplot của thuộc tính area\n",
        "sns.boxplot(x = \"area\", data = df1)"
      ],
      "metadata": {
        "colab": {
          "base_uri": "https://localhost:8080/",
          "height": 296
        },
        "id": "EiNEiIUiAZh-",
        "outputId": "db2e9a46-2a6c-4bc5-fda2-49250634b110"
      },
      "execution_count": null,
      "outputs": [
        {
          "output_type": "execute_result",
          "data": {
            "text/plain": [
              "<matplotlib.axes._subplots.AxesSubplot at 0x7fdb6d5dd6d0>"
            ]
          },
          "metadata": {},
          "execution_count": 100
        },
        {
          "output_type": "display_data",
          "data": {
            "image/png": "[encoded data removed]",
            "text/plain": [
              "<Figure size 432x288 with 1 Axes>"
            ]
          },
          "metadata": {
            "needs_background": "light"
          }
        }
      ]
    },
    {
      "cell_type": "code",
      "source": [
        "# Xoá bỏ các dữ liệu ngoại lai của area có diện tích lớn hơn 200 m2\n",
        "temp = df1[(df1.area > 0) & (df1.area < 200)]"
      ],
      "metadata": {
        "id": "9TL_cRCTAq-1"
      },
      "execution_count": null,
      "outputs": []
    },
    {
      "cell_type": "code",
      "source": [
        "# Vẽ biểu đồ phân bố dữ liệu của Area trong dataframe temp\n",
        "sns.kdeplot(x = \"area\", data = temp)"
      ],
      "metadata": {
        "colab": {
          "base_uri": "https://localhost:8080/",
          "height": 296
        },
        "id": "97sb3qbUBbXU",
        "outputId": "ebd7aa60-3059-48dc-8d9b-345f90ad64a9"
      },
      "execution_count": null,
      "outputs": [
        {
          "output_type": "execute_result",
          "data": {
            "text/plain": [
              "<matplotlib.axes._subplots.AxesSubplot at 0x7fdb6d38acd0>"
            ]
          },
          "metadata": {},
          "execution_count": 102
        },
        {
          "output_type": "display_data",
          "data": {
            "image/png": "[encoded data removed]",
            "text/plain": [
              "<Figure size 432x288 with 1 Axes>"
            ]
          },
          "metadata": {
            "needs_background": "light"
          }
        }
      ]
    },
    {
      "cell_type": "code",
      "source": [
        "temp.info()"
      ],
      "metadata": {
        "colab": {
          "base_uri": "https://localhost:8080/"
        },
        "id": "ij2Ti9GBCH15",
        "outputId": "d708e40d-0162-45bb-9059-fb5752cf5533"
      },
      "execution_count": null,
      "outputs": [
        {
          "output_type": "stream",
          "name": "stdout",
          "text": [
            "<class 'pandas.core.frame.DataFrame'>\n",
            "Int64Index: 822 entries, 0 to 993\n",
            "Data columns (total 4 columns):\n",
            " #   Column           Non-Null Count  Dtype  \n",
            "---  ------           --------------  -----  \n",
            " 0   area             822 non-null    float64\n",
            " 1   price            799 non-null    float64\n",
            " 2   bedroom          536 non-null    float64\n",
            " 3   house_direction  44 non-null     object \n",
            "dtypes: float64(3), object(1)\n",
            "memory usage: 32.1+ KB\n"
          ]
        }
      ]
    },
    {
      "cell_type": "code",
      "source": [
        "# Thay thế giá trị khuyết thiếu bằng giá trị nội suy theo các cột\n",
        "df2 = temp.interpolate(method = \"linear\", axis = 0).ffill().bfill()"
      ],
      "metadata": {
        "id": "mOYhPEuCCv-T"
      },
      "execution_count": null,
      "outputs": []
    },
    {
      "cell_type": "code",
      "source": [
        "df2.info()"
      ],
      "metadata": {
        "colab": {
          "base_uri": "https://localhost:8080/"
        },
        "id": "LbNrPWvHC07j",
        "outputId": "534bc02a-0598-405f-e411-086319759448"
      },
      "execution_count": null,
      "outputs": [
        {
          "output_type": "stream",
          "name": "stdout",
          "text": [
            "<class 'pandas.core.frame.DataFrame'>\n",
            "Int64Index: 822 entries, 0 to 993\n",
            "Data columns (total 4 columns):\n",
            " #   Column           Non-Null Count  Dtype  \n",
            "---  ------           --------------  -----  \n",
            " 0   area             822 non-null    float64\n",
            " 1   price            822 non-null    float64\n",
            " 2   bedroom          822 non-null    float64\n",
            " 3   house_direction  822 non-null    object \n",
            "dtypes: float64(3), object(1)\n",
            "memory usage: 32.1+ KB\n"
          ]
        }
      ]
    },
    {
      "cell_type": "code",
      "source": [
        "# Vẽ biểu đồ phân bố dữ liệu của thuộc tính Price\n",
        "sns.kdeplot(x = \"price\", data = df2)"
      ],
      "metadata": {
        "colab": {
          "base_uri": "https://localhost:8080/",
          "height": 307
        },
        "id": "nPIkYBloC_05",
        "outputId": "38fa301c-407d-42b4-84c7-57adfeb11299"
      },
      "execution_count": null,
      "outputs": [
        {
          "output_type": "execute_result",
          "data": {
            "text/plain": [
              "<matplotlib.axes._subplots.AxesSubplot at 0x7fdb6d42cad0>"
            ]
          },
          "metadata": {},
          "execution_count": 106
        },
        {
          "output_type": "display_data",
          "data": {
            "image/png": "[encoded data removed]",
            "text/plain": [
              "<Figure size 432x288 with 1 Axes>"
            ]
          },
          "metadata": {
            "needs_background": "light"
          }
        }
      ]
    },
    {
      "cell_type": "code",
      "source": [
        "# Xoá bỏ dữ liệu với Price > 18000\n",
        "temp = df2[(df2.price > 0)&(df2.price < 18000)]\n",
        "temp.info()"
      ],
      "metadata": {
        "colab": {
          "base_uri": "https://localhost:8080/"
        },
        "id": "NBEnFu0pDMdW",
        "outputId": "cf2530ec-41a3-4a5a-b38d-248954e0443d"
      },
      "execution_count": null,
      "outputs": [
        {
          "output_type": "stream",
          "name": "stdout",
          "text": [
            "<class 'pandas.core.frame.DataFrame'>\n",
            "Int64Index: 656 entries, 0 to 992\n",
            "Data columns (total 4 columns):\n",
            " #   Column           Non-Null Count  Dtype  \n",
            "---  ------           --------------  -----  \n",
            " 0   area             656 non-null    float64\n",
            " 1   price            656 non-null    float64\n",
            " 2   bedroom          656 non-null    float64\n",
            " 3   house_direction  656 non-null    object \n",
            "dtypes: float64(3), object(1)\n",
            "memory usage: 25.6+ KB\n"
          ]
        }
      ]
    },
    {
      "cell_type": "code",
      "source": [
        "# Vẽ biểu đồ boxplot của thuộc tính Price\n",
        "sns.boxplot(x = \"price\", data = temp)"
      ],
      "metadata": {
        "colab": {
          "base_uri": "https://localhost:8080/",
          "height": 296
        },
        "id": "8uxmjj45DpAt",
        "outputId": "df43fa82-ff3e-485a-a8a5-c82aa6e9c97b"
      },
      "execution_count": null,
      "outputs": [
        {
          "output_type": "execute_result",
          "data": {
            "text/plain": [
              "<matplotlib.axes._subplots.AxesSubplot at 0x7fdb6d2f9350>"
            ]
          },
          "metadata": {},
          "execution_count": 108
        },
        {
          "output_type": "display_data",
          "data": {
            "image/png": "[encoded data removed]",
            "text/plain": [
              "<Figure size 432x288 with 1 Axes>"
            ]
          },
          "metadata": {
            "needs_background": "light"
          }
        }
      ]
    },
    {
      "cell_type": "code",
      "source": [
        "# Vẽ lại biểu đồ phân bố dữ liệu của thuộc tính Price\n",
        "sns.kdeplot(x = \"price\", data = temp)"
      ],
      "metadata": {
        "colab": {
          "base_uri": "https://localhost:8080/",
          "height": 298
        },
        "id": "edZOJipvEEMJ",
        "outputId": "45456baa-8345-48a7-fcdf-7efcb217f090"
      },
      "execution_count": null,
      "outputs": [
        {
          "output_type": "execute_result",
          "data": {
            "text/plain": [
              "<matplotlib.axes._subplots.AxesSubplot at 0x7fdb6d2db590>"
            ]
          },
          "metadata": {},
          "execution_count": 109
        },
        {
          "output_type": "display_data",
          "data": {
            "image/png": "[encoded data removed]",
            "text/plain": [
              "<Figure size 432x288 with 1 Axes>"
            ]
          },
          "metadata": {
            "needs_background": "light"
          }
        }
      ]
    },
    {
      "cell_type": "code",
      "source": [
        "# vẽ biểu đồ boxplot của thuộc tính bedroom\n",
        "sns.boxplot(x = \"bedroom\", data = temp)"
      ],
      "metadata": {
        "colab": {
          "base_uri": "https://localhost:8080/",
          "height": 296
        },
        "id": "sfJu1L3REtAz",
        "outputId": "52b32410-e634-4855-fb82-13e0ca772348"
      },
      "execution_count": null,
      "outputs": [
        {
          "output_type": "execute_result",
          "data": {
            "text/plain": [
              "<matplotlib.axes._subplots.AxesSubplot at 0x7fdb6dbc51d0>"
            ]
          },
          "metadata": {},
          "execution_count": 110
        },
        {
          "output_type": "display_data",
          "data": {
            "image/png": "[encoded data removed]",
            "text/plain": [
              "<Figure size 432x288 with 1 Axes>"
            ]
          },
          "metadata": {
            "needs_background": "light"
          }
        }
      ]
    },
    {
      "cell_type": "code",
      "source": [
        "# Xoá bỏ các thuộc tính bedroom có giá trị lớn hơn 6\n",
        "df3 = temp[temp.bedroom <= 6]"
      ],
      "metadata": {
        "id": "1Z-wTlE5E4DP"
      },
      "execution_count": null,
      "outputs": []
    },
    {
      "cell_type": "code",
      "source": [
        "# Vẽ biểu đồ phân bố dữ liệu của thuộc tính bedroom\n",
        "sns.kdeplot(x = \"bedroom\", data = df3)"
      ],
      "metadata": {
        "colab": {
          "base_uri": "https://localhost:8080/",
          "height": 300
        },
        "id": "RhMFK9k3FEoi",
        "outputId": "0b84859d-8e55-4ac2-817f-33382d664d22"
      },
      "execution_count": null,
      "outputs": [
        {
          "output_type": "execute_result",
          "data": {
            "text/plain": [
              "<matplotlib.axes._subplots.AxesSubplot at 0x7fdb6d6feb10>"
            ]
          },
          "metadata": {},
          "execution_count": 112
        },
        {
          "output_type": "display_data",
          "data": {
            "image/png": "[encoded data removed]",
            "text/plain": [
              "<Figure size 432x288 with 1 Axes>"
            ]
          },
          "metadata": {
            "needs_background": "light"
          }
        }
      ]
    },
    {
      "cell_type": "markdown",
      "source": [
        "# 3. Vẽ biểu đồ xu hướng phân tích mối quan hệ giữa giá nhà với diện tích, giá nhà với số lượng phòng ngủ, nhận xét"
      ],
      "metadata": {
        "id": "Hko8U2L5FY_V"
      }
    },
    {
      "cell_type": "code",
      "source": [
        "df3.info()"
      ],
      "metadata": {
        "colab": {
          "base_uri": "https://localhost:8080/"
        },
        "id": "oMy6e955FaZZ",
        "outputId": "cdda6cdd-b402-4a62-8055-b45a34ce0488"
      },
      "execution_count": null,
      "outputs": [
        {
          "output_type": "stream",
          "name": "stdout",
          "text": [
            "<class 'pandas.core.frame.DataFrame'>\n",
            "Int64Index: 631 entries, 0 to 992\n",
            "Data columns (total 4 columns):\n",
            " #   Column           Non-Null Count  Dtype  \n",
            "---  ------           --------------  -----  \n",
            " 0   area             631 non-null    float64\n",
            " 1   price            631 non-null    float64\n",
            " 2   bedroom          631 non-null    float64\n",
            " 3   house_direction  631 non-null    object \n",
            "dtypes: float64(3), object(1)\n",
            "memory usage: 24.6+ KB\n"
          ]
        }
      ]
    },
    {
      "cell_type": "code",
      "source": [
        "df3.house_direction.unique()"
      ],
      "metadata": {
        "colab": {
          "base_uri": "https://localhost:8080/"
        },
        "id": "jLv_gh9UFdoe",
        "outputId": "66d82b5f-057a-41cd-9431-cc33e905ef6b"
      },
      "execution_count": null,
      "outputs": [
        {
          "output_type": "execute_result",
          "data": {
            "text/plain": [
              "array(['Nam', 'Đông', 'Đông-Nam', 'Tây-Nam', 'Tây-Bắc', 'Bắc', 'Đông-Bắc'],\n",
              "      dtype=object)"
            ]
          },
          "metadata": {},
          "execution_count": 114
        }
      ]
    },
    {
      "cell_type": "code",
      "source": [
        "# Vẽ biểu đồ xu hướng phân tích mối quan hệ giữa giá nhà với diện tích\n",
        "sns.lmplot(x = \"area\", y = \"price\", data = df3)"
      ],
      "metadata": {
        "colab": {
          "base_uri": "https://localhost:8080/",
          "height": 386
        },
        "id": "FZ8cE9CMFlS6",
        "outputId": "0bc40e3a-8a48-4caf-c9c7-4743b366ed54"
      },
      "execution_count": null,
      "outputs": [
        {
          "output_type": "execute_result",
          "data": {
            "text/plain": [
              "<seaborn.axisgrid.FacetGrid at 0x7fdb6d4d2fd0>"
            ]
          },
          "metadata": {},
          "execution_count": 117
        },
        {
          "output_type": "display_data",
          "data": {
            "image/png": "[encoded data removed]",
            "text/plain": [
              "<Figure size 360x360 with 1 Axes>"
            ]
          },
          "metadata": {
            "needs_background": "light"
          }
        }
      ]
    },
    {
      "cell_type": "code",
      "source": [
        "# Vẽ biểu đồ xu hướng phân tích mối quan hệ giữa giá nhà và số lượng phòng ngủ\n",
        "sns.lmplot(x = \"bedroom\", y = \"price\", data = df3)"
      ],
      "metadata": {
        "colab": {
          "base_uri": "https://localhost:8080/",
          "height": 386
        },
        "id": "rUz2wtcgMj3D",
        "outputId": "c3bc7c29-36ca-4072-8838-95e7413dd59f"
      },
      "execution_count": null,
      "outputs": [
        {
          "output_type": "execute_result",
          "data": {
            "text/plain": [
              "<seaborn.axisgrid.FacetGrid at 0x7fdb6a821990>"
            ]
          },
          "metadata": {},
          "execution_count": 118
        },
        {
          "output_type": "display_data",
          "data": {
            "image/png": "[encoded data removed]",
            "text/plain": [
              "<Figure size 360x360 with 1 Axes>"
            ]
          },
          "metadata": {
            "needs_background": "light"
          }
        }
      ]
    },
    {
      "cell_type": "markdown",
      "source": [
        "# 4. Vẽ biểu đồ phân bố thể hiện phân bố của giá nhà theo các hướng, nhận xét"
      ],
      "metadata": {
        "id": "E91bPmHpNS6n"
      }
    },
    {
      "cell_type": "code",
      "source": [
        "df3.info()"
      ],
      "metadata": {
        "colab": {
          "base_uri": "https://localhost:8080/"
        },
        "id": "4LTPL3-7NSJQ",
        "outputId": "bb171c2d-81f5-4ff4-dbd2-1d567fe0c2d4"
      },
      "execution_count": null,
      "outputs": [
        {
          "output_type": "stream",
          "name": "stdout",
          "text": [
            "<class 'pandas.core.frame.DataFrame'>\n",
            "Int64Index: 631 entries, 0 to 992\n",
            "Data columns (total 4 columns):\n",
            " #   Column           Non-Null Count  Dtype  \n",
            "---  ------           --------------  -----  \n",
            " 0   area             631 non-null    float64\n",
            " 1   price            631 non-null    float64\n",
            " 2   bedroom          631 non-null    float64\n",
            " 3   house_direction  631 non-null    object \n",
            "dtypes: float64(3), object(1)\n",
            "memory usage: 24.6+ KB\n"
          ]
        }
      ]
    },
    {
      "cell_type": "code",
      "source": [
        "#Vẽ biểu đồ phân bố của giá nhà theo các hướng\n",
        "sns.violinplot(x = \"house_direction\", y = \"price\", data = df3)"
      ],
      "metadata": {
        "colab": {
          "base_uri": "https://localhost:8080/",
          "height": 299
        },
        "id": "OkcDT5W8NaIb",
        "outputId": "8bafe13c-716d-47c9-e941-22e07aed0a8a"
      },
      "execution_count": null,
      "outputs": [
        {
          "output_type": "execute_result",
          "data": {
            "text/plain": [
              "<matplotlib.axes._subplots.AxesSubplot at 0x7fdb6a782c50>"
            ]
          },
          "metadata": {},
          "execution_count": 120
        },
        {
          "output_type": "display_data",
          "data": {
            "image/png": "[encoded data removed]",
            "text/plain": [
              "<Figure size 432x288 with 1 Axes>"
            ]
          },
          "metadata": {
            "needs_background": "light"
          }
        }
      ]
    },
    {
      "cell_type": "markdown",
      "source": [
        "# 5. Vẽ biểu đồ tần số để đếm số nhà ở mỗi hướng nhà, nhận xét."
      ],
      "metadata": {
        "id": "XaGbapLlNyHP"
      }
    },
    {
      "cell_type": "code",
      "source": [
        "df3.info()"
      ],
      "metadata": {
        "colab": {
          "base_uri": "https://localhost:8080/"
        },
        "id": "iS8ByyngNsLd",
        "outputId": "60b22c3c-257e-403f-f5d3-cc73f09e3a59"
      },
      "execution_count": null,
      "outputs": [
        {
          "output_type": "stream",
          "name": "stdout",
          "text": [
            "<class 'pandas.core.frame.DataFrame'>\n",
            "Int64Index: 631 entries, 0 to 992\n",
            "Data columns (total 4 columns):\n",
            " #   Column           Non-Null Count  Dtype  \n",
            "---  ------           --------------  -----  \n",
            " 0   area             631 non-null    float64\n",
            " 1   price            631 non-null    float64\n",
            " 2   bedroom          631 non-null    float64\n",
            " 3   house_direction  631 non-null    object \n",
            "dtypes: float64(3), object(1)\n",
            "memory usage: 40.8+ KB\n"
          ]
        }
      ]
    },
    {
      "cell_type": "code",
      "source": [
        "# Vẽ biểu đồ tần số để đến số nhà ở mỗi hướng\n",
        "sns.countplot(x = \"house_direction\", data = df3)"
      ],
      "metadata": {
        "colab": {
          "base_uri": "https://localhost:8080/",
          "height": 299
        },
        "id": "YlOYGFBDN1Tp",
        "outputId": "e685003d-ab90-4ae8-fb02-1faf5f3f9c34"
      },
      "execution_count": null,
      "outputs": [
        {
          "output_type": "execute_result",
          "data": {
            "text/plain": [
              "<matplotlib.axes._subplots.AxesSubplot at 0x7fdb69c82590>"
            ]
          },
          "metadata": {},
          "execution_count": 123
        },
        {
          "output_type": "display_data",
          "data": {
            "image/png": "[encoded data removed]",
            "text/plain": [
              "<Figure size 432x288 with 1 Axes>"
            ]
          },
          "metadata": {
            "needs_background": "light"
          }
        }
      ]
    },
    {
      "cell_type": "markdown",
      "source": [
        "# 6. Vẽ biểu đồ boxplot thể hiện phân bố của giá nhà theo các hướng, nhận xét"
      ],
      "metadata": {
        "id": "Hji4gM0gPQRb"
      }
    },
    {
      "cell_type": "code",
      "source": [
        "df3.info()"
      ],
      "metadata": {
        "colab": {
          "base_uri": "https://localhost:8080/"
        },
        "id": "FiQdKR5KPPoD",
        "outputId": "e34c5012-6fc2-40d6-ae5e-2671abf08a1c"
      },
      "execution_count": null,
      "outputs": [
        {
          "output_type": "stream",
          "name": "stdout",
          "text": [
            "<class 'pandas.core.frame.DataFrame'>\n",
            "Int64Index: 631 entries, 0 to 992\n",
            "Data columns (total 4 columns):\n",
            " #   Column           Non-Null Count  Dtype  \n",
            "---  ------           --------------  -----  \n",
            " 0   area             631 non-null    float64\n",
            " 1   price            631 non-null    float64\n",
            " 2   bedroom          631 non-null    float64\n",
            " 3   house_direction  631 non-null    object \n",
            "dtypes: float64(3), object(1)\n",
            "memory usage: 40.8+ KB\n"
          ]
        }
      ]
    },
    {
      "cell_type": "code",
      "source": [
        "# Vẽ biểu đồ boxplot thể hiện phân bố giá nhà theo các hướng\n",
        "sns.boxplot(x = \"house_direction\", y = \"price\", )"
      ],
      "metadata": {
        "id": "JVJbuKO8PVaL"
      },
      "execution_count": null,
      "outputs": []
    }
  ]
}